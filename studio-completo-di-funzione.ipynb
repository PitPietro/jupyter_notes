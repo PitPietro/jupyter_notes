{
 "cells": [
  {
   "cell_type": "code",
   "execution_count": 1,
   "metadata": {},
   "outputs": [],
   "source": [
    "%matplotlib inline\n",
    "import math\n",
    "import matplotlib.pyplot as plt\n",
    "import numpy as np"
   ]
  },
  {
   "cell_type": "code",
   "execution_count": 2,
   "metadata": {},
   "outputs": [],
   "source": [
    "def make_plot(y_min, y_max):\n",
    "    fig = plt.figure()\n",
    "    ax = fig.add_subplot(1, 1, 1, ylim=[y_min, y_max])\n",
    "    ax.spines['left'].set_position('zero')\n",
    "    ax.spines['bottom'].set_position('zero')\n",
    "    ax.spines['right'].set_color('none')\n",
    "    ax.spines['top'].set_color('none')\n",
    "    ax.xaxis.set_ticks_position('bottom')\n",
    "    ax.yaxis.set_ticks_position('left')\n",
    "    \n",
    "    # ax.set_ylim()\n",
    "    plt.plot(x,y, 'r')\n",
    "    plt.show()"
   ]
  },
  {
   "cell_type": "code",
   "execution_count": 16,
   "metadata": {},
   "outputs": [],
   "source": [
    "def tree_plots(y1, y2, y3, x1):\n",
    "    pass"
   ]
  },
  {
   "cell_type": "markdown",
   "metadata": {},
   "source": [
    "$\\newcommand{\\N}{\\mathbb{N}}$\n",
    "$\\newcommand{\\R}{\\mathbb{R}}$\n",
    "$\\newcommand{\\Z}{\\mathbb{Z}}$\n",
    "$\\newcommand{\\Q}{\\mathbb{Q}}$\n",
    "$\\newcommand{\\I}{\\mathbb{I}}$\n",
    "$\\newcommand{\\C}{\\mathbb{C}}$\n",
    "$\\newcommand{\\new}{\\newline}$"
   ]
  },
  {
   "cell_type": "markdown",
   "metadata": {},
   "source": [
    "# Studio Completo di Funzione"
   ]
  },
  {
   "cell_type": "markdown",
   "metadata": {},
   "source": [
    "Pietro Poluzzi"
   ]
  },
  {
   "cell_type": "markdown",
   "metadata": {},
   "source": [
    "## Teoria introduttiva allo studio di funzione"
   ]
  },
  {
   "cell_type": "markdown",
   "metadata": {},
   "source": [
    "### Gli insiemi numerici"
   ]
  },
  {
   "cell_type": "markdown",
   "metadata": {},
   "source": [
    "$$\\N \\subset \\Z \\subset \\Q \\subset \\R \\subset \\C \\newline$$\n",
    "Il simbolo $\\subset$ indica che l'insieme a sinistra è sottoinsieme dell'insieme che si trova a destra: $\\N$ è sottoinsieme di $\\Z$, che a sua volta è sottoinsieme di $\\Q$, che a sua volta è sottoinsieme di $\\R$, il quale è sottoinsieme di $\\C$ (che si serve di $\\I$ per rappresentare i numeri complessi).\n",
    "$\\R$ è a sua volta sotto insieme di $\\C$ poiché è necessaria una componente immaginaria (un elemento di $\\I$) per poter esprimere il valore dell'estrazione di radice in $\\R^-$."
   ]
  },
  {
   "cell_type": "markdown",
   "metadata": {},
   "source": [
    "### L'insieme $\\N$"
   ]
  },
  {
   "cell_type": "markdown",
   "metadata": {},
   "source": [
    "L'insieme $\\N$ dei numeri naturali comprendere tutti gli interi non negativi e lo zero. $\\newline \\N = \\{0,\\;1,\\;2,\\;3,\\;4,\\;5,\\;6,\\;...\\} $"
   ]
  },
  {
   "cell_type": "markdown",
   "metadata": {},
   "source": [
    "#### Proprietà dell'insieme $\\N$"
   ]
  },
  {
   "cell_type": "markdown",
   "metadata": {},
   "source": [
    "L'insieme $\\N$ forma con l'operazione di somma un monoide commutativo e si esprime con la formula $(\\N, +)$. Esiste l'elemento neutro rispetto alla somma, ovvero lo zero. Tale operazione gode di tre proprietà:\n",
    "1. proprietà commutativa: $\\\\ a + b = b + a \\quad \\forall a, b \\in \\N$\n",
    "2. proprietà associativa\n",
    "3. proprietà distributiva el prodotto rispetto alla somma: $\\\\ a(b+c)=a \\cdot b + a \\cdot c \\quad \\forall a, b, c \\in \\N$"
   ]
  },
  {
   "cell_type": "markdown",
   "metadata": {},
   "source": [
    "L'insieme $\\N$ forma con l'operazione di moltiplicazione un semigruppo commutativo e si esprime con la formula $(\\N, \\cdot)$. Esiste l'elemento neutro rispetto alla moltiplicazione, ovvero $1$. $\\new$\n",
    "Grazie alle proprietà enunciate in precedenza si può concludere che $(\\N, +, \\cdot)$ è un semianello unitario commutativo. Poiché nessun elemento di $\\N$, fatta eccezione per lo $0$, ha inverso additivo, allora $(\\N, +)$ non è un gruppo; di conseguenza $(\\N, +, \\cdot)$ non potrà essere né un anello né un campo."
   ]
  },
  {
   "cell_type": "markdown",
   "metadata": {},
   "source": [
    "## Studio della funzione\n",
    "Grazie allo studio di $f(x)$ si trovano eventuali simmetrie, periodicità, i punti in cui essa si annulla e gli intervalli di positività e negatività."
   ]
  },
  {
   "cell_type": "markdown",
   "metadata": {},
   "source": [
    "### Ricerca di eventuali simmetrie o periodicità\n",
    "Una funzione è pari se $f(x) = f(-x)$ ed è simmetrica rispetto all'asse $y$. <br>\n",
    "Una funzione è dispari se $-f(x) = f(-x)$ ed è simmetrica rispetto all'origine. $\\new$\n",
    "Una funzione è periodica se $f(x) = f(x + T)$. Le funzioni periodiche sono generalmente goniometriche."
   ]
  },
  {
   "cell_type": "markdown",
   "metadata": {},
   "source": [
    "### Intersezioni con gli assi\n",
    "Per individuare le intersezioni con gli assi è necessario fare due sistemi di due equazioni, il primo con $y = 0$ e il secondo con $x = 0$ come mostrato di seguito. $\\new$\n",
    "$$\n",
    "\\begin{cases}\n",
    "y = f(x)\\\\\n",
    "y = 0\n",
    "\\end{cases}\n",
    "$$\n",
    "$\\new$\n",
    "$$\n",
    "\\begin{cases}\n",
    "f(x) = 0\\\\\n",
    "x = 0\n",
    "\\end{cases}\n",
    "$$"
   ]
  },
  {
   "cell_type": "markdown",
   "metadata": {},
   "source": [
    "### Intervalli di positività e negatività\n",
    "Ponendo $f(x) > 0$ si individuano gli intervalli di positività e negatività della funzione: dove è positiva (sopra l'asse $x$) e dove invece è negativa (sotto l'asse $x$)."
   ]
  },
  {
   "cell_type": "markdown",
   "metadata": {},
   "source": [
    "#### Studio della funzione agli estremi del Dominio\n",
    "Questa parte dello studio di funzione comprende:\n",
    "- limiti per $x$ che tende a più e meno infinito\n",
    "- limiti per $x$ che tende ai punti di discontinuità (se presenti)\n",
    "- individuazione degli asintoti\n",
    "- studio dei punti di discontinuità"
   ]
  },
  {
   "cell_type": "markdown",
   "metadata": {},
   "source": [
    "##### Regole dell'algebra di infiniti e infinitesimi"
   ]
  },
  {
   "cell_type": "markdown",
   "metadata": {},
   "source": [
    "Siano $a \\in\\R^+$, $b \\in\\R^-$, $c \\in\\R$ e $n \\in\\R-\\{0\\}$"
   ]
  },
  {
   "cell_type": "markdown",
   "metadata": {},
   "source": [
    "$$\\frac{0}{n} = 0$$ $\\new$\n",
    "$$\n",
    "\\begin{array}{cc}\n",
    "a^+ - a = 0^+ & (-a)^+ + a = 0^+ \\\\ & \\\\\n",
    "a^- - a = 0^- & (-a)^- + a = 0^- \\\\ & \\\\\n",
    "a \\cdot 0^+ = 0^+ & a \\cdot 0^- = 0^-\\\\ & \\\\\n",
    "b \\cdot 0^+ = 0^- & b \\cdot 0^- = 0^+\\\\ & \\\\\n",
    "0^+ \\cdot 0^+ = 0^+ & 0^+ \\cdot 0^- = 0^- \\\\ & \\\\\n",
    "0^- \\cdot 0^+ = 0^- & 0^- \\cdot 0^- = 0^+ \\\\ & \\\\\n",
    "\\frac{a}{0^+} = + \\infty & \\frac{a}{0^-} = - \\infty \\\\ & \\\\\n",
    "\\frac{b}{0^+} = - \\infty & \\frac{b}{0^-} = + \\infty \\\\ & \\\\\n",
    "c + \\infty = +\\infty & c - \\infty = -\\infty \\\\ & \\\\\n",
    "a \\cdot (+\\infty) = +\\infty & a \\cdot (-\\infty) = -\\infty \\\\ & \\\\\n",
    "b \\cdot (+\\infty) = -\\infty & b \\cdot (-\\infty) = +\\infty \\\\ & \\\\\n",
    "\\frac{a}{+\\infty} = 0^+ & \\frac{a}{-\\infty} = 0^-\\\\ & \\\\\n",
    "\\frac{b}{+\\infty} = 0^- & \\frac{b}{-\\infty} = 0^+\\\\ & \\\\\n",
    "\\frac{+\\infty}{a} = + \\infty & \\frac{-\\infty}{a} = - \\infty\\\\ & \\\\\n",
    "\\frac{+\\infty}{b} = - \\infty & \\frac{-\\infty}{b} = + \\infty\\\\ & \\\\\n",
    "\\frac{0^+}{+\\infty} = 0^+ & \\frac{0^-}{+\\infty} = 0^-\\\\ & \\\\\n",
    "\\frac{0^+}{-\\infty} = 0^- & \\frac{0^-}{-\\infty} = 0^+\\\\ & \\\\\n",
    "\\frac{+\\infty}{0^+} = +\\infty & \\frac{-\\infty}{0^+} = -\\infty\\\\ & \\\\\n",
    "\\frac{+\\infty}{0^-} = -\\infty & \\frac{-\\infty}{0^-} = +\\infty\\\\ & \\\\\n",
    "+\\infty^{+\\infty} = +\\infty & +\\infty^{-\\infty} = 0^+\\\\ & \\\\\n",
    "\\end{array}\n",
    "$$"
   ]
  },
  {
   "cell_type": "markdown",
   "metadata": {},
   "source": [
    "### Teoremi sui limiti"
   ]
  },
  {
   "cell_type": "markdown",
   "metadata": {},
   "source": [
    "#### Teorema dell'unicità del limite"
   ]
  },
  {
   "cell_type": "markdown",
   "metadata": {},
   "source": [
    "Se per $x \\to x_0$ la funzione $f(x)$ ha come limite $l \\in \\R$, tale limite è unico. [dimostrazione](https://www.youmath.it/lezioni/analisi-matematica/limiti-continuita-e-asintoti/3281-teorema-di-unicita-del-limite-per-funzioni.html)"
   ]
  },
  {
   "cell_type": "markdown",
   "metadata": {},
   "source": [
    "#### Teorema della parmanenza del segno"
   ]
  },
  {
   "cell_type": "markdown",
   "metadata": {},
   "source": [
    "Se per $x_0$ la funzione $f(x)$  ha come limite il numero $l \\in \\R-\\{0\\}$, esiste un intorno $I(x_0)$, escluso al più $x_0$, in cui  $f(x)$  e $l$ sono entrambi positivi o entrambi negativi."
   ]
  },
  {
   "cell_type": "markdown",
   "metadata": {},
   "source": [
    "#### Teorema del confronto"
   ]
  },
  {
   "cell_type": "markdown",
   "metadata": {},
   "source": [
    "Siano $f(x), g(x)$ e $h(x)$ tre funzioni definite nello stesso intorno di $I(x_0)$, escluso al più $x_0$. Se in ogni punti di $I \\ne x_0$ si ha che $\\new$\n",
    "$$ f(x) \\le g(x) \\le h(x)$$\n",
    "e\n",
    "$$ \\lim_{x \\to x_0}f(x) = \\lim_{x \\to x_0}g(x) = l $$\n",
    "allora\n",
    "$$ \\lim_{x \\to x_0}h(x) = l$$"
   ]
  },
  {
   "cell_type": "markdown",
   "metadata": {},
   "source": [
    "### Operazioni sui limiti"
   ]
  },
  {
   "cell_type": "markdown",
   "metadata": {},
   "source": [
    "#### Funzione potenza"
   ]
  },
  {
   "cell_type": "markdown",
   "metadata": {},
   "source": [
    "Sia $n \\in\\R$, se $n$ è pari: $$ \\lim_{x \\to \\pm \\infty}x^n = +\\infty $$"
   ]
  },
  {
   "cell_type": "code",
   "execution_count": 14,
   "metadata": {},
   "outputs": [
    {
     "data": {
      "image/png": "[encoded data removed]",
      "text/plain": [
       "<Figure size 432x288 with 1 Axes>"
      ]
     },
     "metadata": {
      "needs_background": "light"
     },
     "output_type": "display_data"
    }
   ],
   "source": [
    "n = 2\n",
    "x = np.linspace(-10, 10, 1000)\n",
    "y = x ** n\n",
    "\n",
    "make_plot(-10, 100)"
   ]
  },
  {
   "cell_type": "markdown",
   "metadata": {},
   "source": [
    "Se $n$ è dispari: $$ \\lim_{x \\to +\\infty}x^n = +\\infty \\quad;\\quad  \\lim_{x \\to -\\infty}x^n = -\\infty$$"
   ]
  },
  {
   "cell_type": "code",
   "execution_count": 15,
   "metadata": {
    "scrolled": false
   },
   "outputs": [
    {
     "data": {
      "image/png": "[encoded data removed]",
      "text/plain": [
       "<Figure size 432x288 with 1 Axes>"
      ]
     },
     "metadata": {
      "needs_background": "light"
     },
     "output_type": "display_data"
    }
   ],
   "source": [
    "n = 5\n",
    "x = np.linspace(-5, 5, 1000)\n",
    "y = x**n\n",
    "\n",
    "make_plot(-50, 50)"
   ]
  },
  {
   "cell_type": "markdown",
   "metadata": {},
   "source": [
    "#### Funzione radice"
   ]
  },
  {
   "cell_type": "markdown",
   "metadata": {},
   "source": [
    "Se $n$ è pari: $$ \\lim_{x \\to 0^+} \\sqrt[n]{x} = 0  \\quad;\\quad \\lim_{x \\to +\\infty} \\sqrt[n]{x} = +\\infty $$"
   ]
  },
  {
   "cell_type": "code",
   "execution_count": 5,
   "metadata": {
    "scrolled": true
   },
   "outputs": [
    {
     "data": {
      "image/png": "[encoded data removed]",
      "text/plain": [
       "<Figure size 432x288 with 1 Axes>"
      ]
     },
     "metadata": {
      "needs_background": "light"
     },
     "output_type": "display_data"
    }
   ],
   "source": [
    "x = np.linspace(0, 10, 100)\n",
    "y = np.sqrt(x)\n",
    "\n",
    "make_plot(0, 10)"
   ]
  },
  {
   "cell_type": "markdown",
   "metadata": {},
   "source": [
    "Se $n$ è dispari: $$ \\lim_{x \\to -\\infty} \\sqrt[n]{x} = -\\infty  \\quad;\\quad \\lim_{x \\to +\\infty} \\sqrt[n]{x} = +\\infty $$"
   ]
  },
  {
   "cell_type": "code",
   "execution_count": 6,
   "metadata": {},
   "outputs": [
    {
     "data": {
      "image/png": "[encoded data removed]",
      "text/plain": [
       "<Figure size 432x288 with 1 Axes>"
      ]
     },
     "metadata": {
      "needs_background": "light"
     },
     "output_type": "display_data"
    }
   ],
   "source": [
    "x = np.linspace(-10, 10, 100)\n",
    "y = np.cbrt(x)\n",
    "\n",
    "make_plot(-5, 5)"
   ]
  },
  {
   "cell_type": "markdown",
   "metadata": {},
   "source": [
    "#### Funzione esponenziale"
   ]
  },
  {
   "cell_type": "markdown",
   "metadata": {},
   "source": [
    "Se $a > 1$: $$ \\lim_{x \\to -\\infty} a^x = 0 \\quad;\\quad \\lim_{x \\to +\\infty} a^x = +\\infty $$"
   ]
  },
  {
   "cell_type": "code",
   "execution_count": 7,
   "metadata": {},
   "outputs": [
    {
     "data": {
      "image/png": "[encoded data removed]",
      "text/plain": [
       "<Figure size 432x288 with 1 Axes>"
      ]
     },
     "metadata": {
      "needs_background": "light"
     },
     "output_type": "display_data"
    }
   ],
   "source": [
    "a = 1.5\n",
    "x = np.linspace(-10, 10, 100)\n",
    "y = a ** x # y = a^x\n",
    "\n",
    "make_plot(-10, 10)"
   ]
  },
  {
   "cell_type": "markdown",
   "metadata": {},
   "source": [
    "Se $0 < a < 1$: $$ \\lim_{x \\to -\\infty} a^x = +\\infty \\quad;\\quad \\lim_{x \\to +\\infty} a^x = 0 $$"
   ]
  },
  {
   "cell_type": "code",
   "execution_count": 8,
   "metadata": {
    "scrolled": true
   },
   "outputs": [
    {
     "data": {
      "image/png": "[encoded data removed]",
      "text/plain": [
       "<Figure size 432x288 with 1 Axes>"
      ]
     },
     "metadata": {
      "needs_background": "light"
     },
     "output_type": "display_data"
    }
   ],
   "source": [
    "a = 0.5\n",
    "x = np.linspace(-10, 10, 100)\n",
    "y = a ** x\n",
    "\n",
    "make_plot(-10, 10)"
   ]
  },
  {
   "cell_type": "markdown",
   "metadata": {},
   "source": [
    "#### Funzione logaritmica"
   ]
  },
  {
   "cell_type": "markdown",
   "metadata": {},
   "source": [
    "Se $a > 1$: $$ \\lim_{x \\to 0^+} \\log_a x = -\\infty \\quad;\\quad \\lim_{x \\to +\\infty} \\log_a x = +\\infty $$"
   ]
  },
  {
   "cell_type": "code",
   "execution_count": 9,
   "metadata": {},
   "outputs": [
    {
     "data": {
      "image/png": "[encoded data removed]",
      "text/plain": [
       "<Figure size 432x288 with 1 Axes>"
      ]
     },
     "metadata": {
      "needs_background": "light"
     },
     "output_type": "display_data"
    }
   ],
   "source": [
    "a = 1.5\n",
    "x = np.linspace(0.00001, 10, 100)\n",
    "y = np.log(x) / np.log(a) # \\log_a x = \\log_e x / \\log_e b \n",
    "\n",
    "make_plot(-10, 10)"
   ]
  },
  {
   "cell_type": "markdown",
   "metadata": {},
   "source": [
    "Se $0 < a < 1$: $$ \\lim_{x \\to 0^+} \\log_a x = +\\infty \\quad;\\quad \\lim_{x \\to +\\infty} \\log_a x = -\\infty $$"
   ]
  },
  {
   "cell_type": "code",
   "execution_count": 10,
   "metadata": {
    "scrolled": true
   },
   "outputs": [
    {
     "data": {
      "image/png": "[encoded data removed]",
      "text/plain": [
       "<Figure size 432x288 with 1 Axes>"
      ]
     },
     "metadata": {
      "needs_background": "light"
     },
     "output_type": "display_data"
    }
   ],
   "source": [
    "a = 0.8\n",
    "x = np.linspace(0.00001, 10, 100)\n",
    "y = np.log(x) / np.log(a) # \\log_a x = \\log_e x / \\log_e b \n",
    "\n",
    "make_plot(-10, 10)"
   ]
  },
  {
   "cell_type": "markdown",
   "metadata": {},
   "source": [
    "#### Limite della somma"
   ]
  },
  {
   "cell_type": "markdown",
   "metadata": {},
   "source": [
    "Se $\\lim_{x \\to \\alpha}f(x) = l$ e $\\lim_{x \\to \\alpha}g(x) = m$ con $l,m \\in\\R$ allora:\n",
    "$$ \\lim_{x \\to \\alpha}[f(x) + g(x)] = \\lim_{x \\to \\alpha}f(x) + \\lim_{x \\to \\alpha}g(x) = l + m $$ $\\new$\n",
    "Il limite della somma di due funzioni è uguale alla somma dei loro limiti. "
   ]
  },
  {
   "cell_type": "markdown",
   "metadata": {},
   "source": [
    "##### esempio\n",
    "Siano:\n",
    "- $\\alpha = -2$\n",
    "- $f(x)=x^2 +2x-4 = -4$\n",
    "- $g(x) = x+4 \\new$\n",
    "$$ \\lim_{x \\to -2} x^2 +2x-4 = -4 \\quad \\quad \\lim_{x \\to -2}x+4 = 2 $$\n",
    "$$ \\lim_{x \\to -2} [x^2 +2x +x -4+2] = \\lim_{x \\to -2} [x^2+3x] = -4+2 = 2 $$"
   ]
  },
  {
   "cell_type": "code",
   "execution_count": null,
   "metadata": {},
   "outputs": [],
   "source": []
  },
  {
   "cell_type": "markdown",
   "metadata": {},
   "source": [
    "#### Limite del prodotto"
   ]
  },
  {
   "cell_type": "markdown",
   "metadata": {},
   "source": [
    "Se $\\lim_{x \\to \\alpha}f(x) = l$ e $\\lim_{x \\to \\alpha}g(x) = m$ con $l,m \\in \\R$ allora: \n",
    "$$ \\lim_{x \\to \\alpha}[f(x) \\cdot g(x)] = \\lim_{x \\to \\alpha}f(x) \\cdot \\lim_{x \\to \\alpha}g(x) = l \\cdot m $$\n",
    "Il limite della prodotto di due funzioni è uguale alla prodotto dei loro limiti. $\\new$\n",
    "Si può inoltre ricavare il seguente teorema: $$ \\lim_{x \\to \\alpha}[f(x)]^n = l^n \\quad \\forall n \\in N-\\{0\\}$$"
   ]
  },
  {
   "cell_type": "markdown",
   "metadata": {},
   "source": []
  }
 ],
 "metadata": {
  "kernelspec": {
   "display_name": "Python 3",
   "language": "python",
   "name": "python3"
  },
  "language_info": {
   "codemirror_mode": {
    "name": "ipython",
    "version": 3
   },
   "file_extension": ".py",
   "mimetype": "text/x-python",
   "name": "python",
   "nbconvert_exporter": "python",
   "pygments_lexer": "ipython3",
   "version": "3.8.2"
  }
 },
 "nbformat": 4,
 "nbformat_minor": 4
}
